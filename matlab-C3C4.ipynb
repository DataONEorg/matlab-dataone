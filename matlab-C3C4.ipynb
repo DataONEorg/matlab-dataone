{
 "cells": [
  {
   "cell_type": "code",
   "execution_count": 2,
   "metadata": {
    "collapsed": true
   },
   "outputs": [],
   "source": [
    "import org.dataone.client.run.RunManager;\n",
    "cd ~/Documents/C3_C4_mapping/\n"
   ]
  },
  {
   "cell_type": "code",
   "execution_count": 3,
   "metadata": {
    "collapsed": true
   },
   "outputs": [],
   "source": [
    "mgr = RunManager.getInstance();\n"
   ]
  },
  {
   "cell_type": "code",
   "execution_count": 4,
   "metadata": {
    "collapsed": false
   },
   "outputs": [
    {
     "name": "stdout",
     "output_type": "stream",
     "text": [
      "Run #  1: \n",
      "       runNumber: 1 \n",
      "       packageId: bd09e442-1f47-4aea-aa09-8f271f321116 \n",
      "      scriptName: C3_C4_map_present_NA_with_comments.m \n",
      "       startDate: 24-Feb-2017 14:05:25 \n",
      "         endDate: 24-Feb-2017 14:05:50 \n",
      "     publishDate: N/A \n",
      "             tag: Test_run_windows \n",
      "\n",
      "Run #  2: \n",
      "       runNumber: 2 \n",
      "       packageId: 89e601c1-1b91-4aa1-bbf6-a83f8b86f14b \n",
      "      scriptName: C3_C4_map_present_NA_with_comments.m \n",
      "       startDate: 04-Apr-2017 10:23:44 \n",
      "         endDate: 04-Apr-2017 10:24:08 \n",
      "     publishDate: N/A \n",
      "             tag: Test_run_matlab_jupyter \n",
      "\n"
     ]
    }
   ],
   "source": [
    " mgr.listRuns();"
   ]
  },
  {
   "cell_type": "code",
   "execution_count": 5,
   "metadata": {
    "collapsed": false
   },
   "outputs": [
    {
     "name": "stdout",
     "output_type": "stream",
     "text": [
      "Insert a record to the ExecMetadata table and Tag table.\n",
      "Update a record to the ExecMetadata table.\n"
     ]
    }
   ],
   "source": [
    "mgr.record('/Users/syc/Documents/C3_C4_mapping/C3_C4_map_present_NA_with_comments.m', 'Test_run_matlab_jupyter_2');"
   ]
  },
  {
   "cell_type": "code",
   "execution_count": 6,
   "metadata": {
    "collapsed": false,
    "scrolled": true
   },
   "outputs": [
    {
     "name": "stdout",
     "output_type": "stream",
     "text": [
      "Run #  1: \n",
      "       runNumber: 1 \n",
      "       packageId: bd09e442-1f47-4aea-aa09-8f271f321116 \n",
      "      scriptName: C3_C4_map_present_NA_with_comments.m \n",
      "       startDate: 24-Feb-2017 14:05:25 \n",
      "         endDate: 24-Feb-2017 14:05:50 \n",
      "     publishDate: N/A \n",
      "             tag: Test_run_windows \n",
      "\n",
      "Run #  2: \n",
      "       runNumber: 2 \n",
      "       packageId: 89e601c1-1b91-4aa1-bbf6-a83f8b86f14b \n",
      "      scriptName: C3_C4_map_present_NA_with_comments.m \n",
      "       startDate: 04-Apr-2017 10:23:44 \n",
      "         endDate: 04-Apr-2017 10:24:08 \n",
      "     publishDate: N/A \n",
      "             tag: Test_run_matlab_jupyter \n",
      "\n",
      "Run #  3: \n",
      "       runNumber: 3 \n",
      "       packageId: 5078bb97-442d-4e95-a622-cadbd9b54b66 \n",
      "      scriptName: C3_C4_map_present_NA_with_comments.m \n",
      "       startDate: 04-Apr-2017 10:27:56 \n",
      "         endDate: 04-Apr-2017 10:28:18 \n",
      "     publishDate: N/A \n",
      "             tag: Test_run_matlab_jupyter_2 \n",
      "\n"
     ]
    }
   ],
   "source": [
    " mgr.listRuns();"
   ]
  },
  {
   "cell_type": "code",
   "execution_count": 7,
   "metadata": {
    "collapsed": false
   },
   "outputs": [
    {
     "name": "stdout",
     "output_type": "stream",
     "text": [
      "\n",
      "[DETAILS]: Run details\n",
      "-------------------------\n",
      "\"C3_C4_map_present_NA_with_comments.m\" was executed on 04-Apr-2017 10:27:56\n",
      "\n",
      "   RunSequenceNumber:  \u0003 \n",
      "         ExecutionId:  5078bb97-442d-4e95-a622-cadbd9b54b66 \n",
      "       DataPackageId:  5078bb97-442d-4e95-a622-cadbd9b54b66 \n",
      "           RunByUser:  syc \n",
      "      AccountSubject: N/A \n",
      "              HostId:  wirelessprv-10-195-202-109.near.illinois.edu \n",
      "        RunStartTime:  04-Apr-2017 10:27:56 \n",
      "     OperatingSystem:  Mac OS X  Version: 10.10.5 Build: 14F2109 \n",
      "             Runtime:  MATLAB 8.5 (R2015a) 09-Feb-2015 \n",
      " SoftwareApplication:  /Users/syc/Documents/C3_C4_mapping/C3_C4_map_present_NA_with_comments.m \n",
      "       RunEndingTime:  04-Apr-2017 10:28:18 \n",
      "ErrorMessageFromThisRun: N/A \n",
      "     PublishedNodeId:  urn:node:KNB \n",
      "       PublishedDate:  N/A \n",
      "                 Tag:  Test_run_matlab_jupyter_2 \n",
      "\n",
      "\n",
      "[USED]: 25 Items used by this run\n",
      "------------------------------------\n",
      "File #  1:\n",
      "            FilePath: /Users/syc/Documents/C3_C4_mapping/inputs/land_cover/SYNMAP_NA_QD.nc\n",
      "                Size: 54720688 (bytes)\n",
      "        ModifiedTime: 15-Oct-2015 17:46:03\n",
      "\n",
      "File #  2:\n",
      "            FilePath: /Users/syc/Documents/C3_C4_mapping/inputs/narr_air.2m_monthly/air.2m_monthly_2000_2010_mean.1.nc\n",
      "                Size: 1156292 (bytes)\n",
      "        ModifiedTime: 15-Oct-2015 17:46:04\n",
      "\n",
      "File #  3:\n",
      "            FilePath: /Users/syc/Documents/C3_C4_mapping/inputs/narr_air.2m_monthly/air.2m_monthly_2000_2010_mean.2.nc\n",
      "                Size: 1156292 (bytes)\n",
      "        ModifiedTime: 15-Oct-2015 17:46:04\n",
      "\n",
      "File #  4:\n",
      "            FilePath: /Users/syc/Documents/C3_C4_mapping/inputs/narr_air.2m_monthly/air.2m_monthly_2000_2010_mean.3.nc\n",
      "                Size: 1156292 (bytes)\n",
      "        ModifiedTime: 15-Oct-2015 17:46:04\n",
      "\n",
      "File #  5:\n",
      "            FilePath: /Users/syc/Documents/C3_C4_mapping/inputs/narr_air.2m_monthly/air.2m_monthly_2000_2010_mean.4.nc\n",
      "                Size: 1156292 (bytes)\n",
      "        ModifiedTime: 15-Oct-2015 17:46:04\n",
      "\n",
      "File #  6:\n",
      "            FilePath: /Users/syc/Documents/C3_C4_mapping/inputs/narr_air.2m_monthly/air.2m_monthly_2000_2010_mean.5.nc\n",
      "                Size: 1156292 (bytes)\n",
      "        ModifiedTime: 15-Oct-2015 17:46:04\n",
      "\n",
      "File #  7:\n",
      "            FilePath: /Users/syc/Documents/C3_C4_mapping/inputs/narr_air.2m_monthly/air.2m_monthly_2000_2010_mean.6.nc\n",
      "                Size: 1156292 (bytes)\n",
      "        ModifiedTime: 15-Oct-2015 17:46:04\n",
      "\n",
      "File #  8:\n",
      "            FilePath: /Users/syc/Documents/C3_C4_mapping/inputs/narr_air.2m_monthly/air.2m_monthly_2000_2010_mean.7.nc\n",
      "                Size: 1156292 (bytes)\n",
      "        ModifiedTime: 15-Oct-2015 17:46:04\n",
      "\n",
      "File #  9:\n",
      "            FilePath: /Users/syc/Documents/C3_C4_mapping/inputs/narr_air.2m_monthly/air.2m_monthly_2000_2010_mean.8.nc\n",
      "                Size: 1156292 (bytes)\n",
      "        ModifiedTime: 15-Oct-2015 17:46:04\n",
      "\n",
      "File # 10:\n",
      "            FilePath: /Users/syc/Documents/C3_C4_mapping/inputs/narr_air.2m_monthly/air.2m_monthly_2000_2010_mean.9.nc\n",
      "                Size: 1156292 (bytes)\n",
      "        ModifiedTime: 15-Oct-2015 17:46:04\n",
      "\n",
      "File # 11:\n",
      "            FilePath: /Users/syc/Documents/C3_C4_mapping/inputs/narr_air.2m_monthly/air.2m_monthly_2000_2010_mean.10.nc\n",
      "                Size: 1156292 (bytes)\n",
      "        ModifiedTime: 15-Oct-2015 17:46:04\n",
      "\n",
      "File # 12:\n",
      "            FilePath: /Users/syc/Documents/C3_C4_mapping/inputs/narr_air.2m_monthly/air.2m_monthly_2000_2010_mean.11.nc\n",
      "                Size: 1156292 (bytes)\n",
      "        ModifiedTime: 15-Oct-2015 17:46:04\n",
      "\n",
      "File # 13:\n",
      "            FilePath: /Users/syc/Documents/C3_C4_mapping/inputs/narr_air.2m_monthly/air.2m_monthly_2000_2010_mean.12.nc\n",
      "                Size: 1156292 (bytes)\n",
      "        ModifiedTime: 15-Oct-2015 17:46:04\n",
      "\n",
      "File # 14:\n",
      "            FilePath: /Users/syc/Documents/C3_C4_mapping/inputs/narr_apcp_rescaled_monthly/apcp_monthly_2000_2010_mean.1.nc\n",
      "                Size: 1156292 (bytes)\n",
      "        ModifiedTime: 15-Oct-2015 17:46:04\n",
      "\n",
      "File # 15:\n",
      "            FilePath: /Users/syc/Documents/C3_C4_mapping/inputs/narr_apcp_rescaled_monthly/apcp_monthly_2000_2010_mean.2.nc\n",
      "                Size: 1156292 (bytes)\n",
      "        ModifiedTime: 15-Oct-2015 17:46:04\n",
      "\n",
      "File # 16:\n",
      "            FilePath: /Users/syc/Documents/C3_C4_mapping/inputs/narr_apcp_rescaled_monthly/apcp_monthly_2000_2010_mean.3.nc\n",
      "                Size: 1156292 (bytes)\n",
      "        ModifiedTime: 15-Oct-2015 17:46:04\n",
      "\n",
      "File # 17:\n",
      "            FilePath: /Users/syc/Documents/C3_C4_mapping/inputs/narr_apcp_rescaled_monthly/apcp_monthly_2000_2010_mean.4.nc\n",
      "                Size: 1156292 (bytes)\n",
      "        ModifiedTime: 15-Oct-2015 17:46:04\n",
      "\n",
      "File # 18:\n",
      "            FilePath: /Users/syc/Documents/C3_C4_mapping/inputs/narr_apcp_rescaled_monthly/apcp_monthly_2000_2010_mean.5.nc\n",
      "                Size: 1156292 (bytes)\n",
      "        ModifiedTime: 15-Oct-2015 17:46:04\n",
      "\n",
      "File # 19:\n",
      "            FilePath: /Users/syc/Documents/C3_C4_mapping/inputs/narr_apcp_rescaled_monthly/apcp_monthly_2000_2010_mean.6.nc\n",
      "                Size: 1156292 (bytes)\n",
      "        ModifiedTime: 15-Oct-2015 17:46:04\n",
      "\n",
      "File # 20:\n",
      "            FilePath: /Users/syc/Documents/C3_C4_mapping/inputs/narr_apcp_rescaled_monthly/apcp_monthly_2000_2010_mean.7.nc\n",
      "                Size: 1156292 (bytes)\n",
      "        ModifiedTime: 15-Oct-2015 17:46:04\n",
      "\n",
      "File # 21:\n",
      "            FilePath: /Users/syc/Documents/C3_C4_mapping/inputs/narr_apcp_rescaled_monthly/apcp_monthly_2000_2010_mean.8.nc\n",
      "                Size: 1156292 (bytes)\n",
      "        ModifiedTime: 15-Oct-2015 17:46:04\n",
      "\n",
      "File # 22:\n",
      "            FilePath: /Users/syc/Documents/C3_C4_mapping/inputs/narr_apcp_rescaled_monthly/apcp_monthly_2000_2010_mean.9.nc\n",
      "                Size: 1156292 (bytes)\n",
      "        ModifiedTime: 15-Oct-2015 17:46:04\n",
      "\n",
      "File # 23:\n",
      "            FilePath: /Users/syc/Documents/C3_C4_mapping/inputs/narr_apcp_rescaled_monthly/apcp_monthly_2000_2010_mean.10.nc\n",
      "                Size: 1156292 (bytes)\n",
      "        ModifiedTime: 15-Oct-2015 17:46:04\n",
      "\n",
      "File # 24:\n",
      "            FilePath: /Users/syc/Documents/C3_C4_mapping/inputs/narr_apcp_rescaled_monthly/apcp_monthly_2000_2010_mean.11.nc\n",
      "                Size: 1156292 (bytes)\n",
      "        ModifiedTime: 15-Oct-2015 17:46:04\n",
      "\n",
      "File # 25:\n",
      "            FilePath: /Users/syc/Documents/C3_C4_mapping/inputs/narr_apcp_rescaled_monthly/apcp_monthly_2000_2010_mean.12.nc\n",
      "                Size: 1156292 (bytes)\n",
      "        ModifiedTime: 15-Oct-2015 17:46:04\n",
      "\n",
      "\n",
      "\n",
      "[GENERATED]: 4 Items generated by this run\n",
      "------------------------------------------\n",
      "File #  1:\n",
      "            FilePath: /Users/syc/Documents/C3_C4_mapping/outputs/SYNMAP_PRESENTVEG_C3Grass_RelaFrac_NA_v2.0.nc\n",
      "                Size: 1156188 (bytes)\n",
      "        ModifiedTime: 04-Apr-2017 10:28:15\n",
      "\n",
      "File #  2:\n",
      "            FilePath: /Users/syc/Documents/C3_C4_mapping/outputs/SYNMAP_PRESENTVEG_C4Grass_RelaFrac_NA_v2.0.nc\n",
      "                Size: 1156188 (bytes)\n",
      "        ModifiedTime: 04-Apr-2017 10:28:16\n",
      "\n",
      "File #  3:\n",
      "            FilePath: /Users/syc/Documents/C3_C4_mapping/outputs/SYNMAP_PRESENTVEG_Grass_Fraction_NA_v2.0.nc\n",
      "                Size: 1156172 (bytes)\n",
      "        ModifiedTime: 04-Apr-2017 10:28:16\n",
      "\n",
      "File #  4:\n",
      "            FilePath: /Users/syc/.d1/provenance/runs/5078bb97-442d-4e95-a622-cadbd9b54b66/metadata_5078bb97-442d-4e95-a622-cadbd9b54b66.xml\n",
      "                Size: 20826 (bytes)\n",
      "        ModifiedTime: 04-Apr-2017 10:28:40\n",
      "\n"
     ]
    }
   ],
   "source": [
    "mgr.viewRun('runNumber', 3, 'sections', {'details', 'used', 'generated'});"
   ]
  },
  {
   "cell_type": "code",
   "execution_count": null,
   "metadata": {
    "collapsed": false
   },
   "outputs": [
    {
     "name": "stdout",
     "output_type": "stream",
     "text": [
      "\n",
      "mgr = \n",
      "\n",
      "  RunManager with properties:\n",
      "\n",
      "    configuration: [1x1 org.dataone.client.configure.Configuration]\n",
      "        execution: [1x1 org.dataone.client.run.Execution]\n",
      "         workflow: []\n",
      "     provenanceDB: [1x1 org.dataone.client.sqlite.SqliteDatabase]\n",
      "\n"
     ]
    }
   ],
   "source": [
    "mgr\n"
   ]
  },
  {
   "cell_type": "code",
   "execution_count": null,
   "metadata": {
    "collapsed": true
   },
   "outputs": [],
   "source": []
  },
  {
   "cell_type": "code",
   "execution_count": null,
   "metadata": {
    "collapsed": true
   },
   "outputs": [],
   "source": []
  }
 ],
 "metadata": {
  "anaconda-cloud": {},
  "kernelspec": {
   "display_name": "Matlab",
   "language": "matlab",
   "name": "matlab"
  },
  "language_info": {
   "codemirror_mode": "octave",
   "file_extension": ".m",
   "help_links": [
    {
     "text": "MetaKernel Magics",
     "url": "https://github.com/calysto/metakernel/blob/master/metakernel/magics/README.md"
    }
   ],
   "mimetype": "text/x-matlab",
   "name": "matlab",
   "version": "0.14.2"
  }
 },
 "nbformat": 4,
 "nbformat_minor": 1
}
